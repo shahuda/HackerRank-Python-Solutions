{
 "cells": [
  {
   "cell_type": "code",
   "execution_count": null,
   "id": "daa53916",
   "metadata": {},
   "outputs": [],
   "source": [
    "# challenge name: arrays\n",
    "import numpy\n",
    "\n",
    "def arrays(arr):\n",
    "    return numpy.array(arr[::-1], float)\n",
    "\n",
    "arr = input().strip().split(' ')\n",
    "result = arrays(arr)\n",
    "print(result)"
   ]
  },
  {
   "cell_type": "code",
   "execution_count": null,
   "id": "8371c6d9",
   "metadata": {},
   "outputs": [],
   "source": [
    "# challenge name: shape and reshape\n",
    "import numpy as np\n",
    "arr= np.array(input().strip().split(), int)\n",
    "print(arr.reshape(3,3))"
   ]
  },
  {
   "cell_type": "code",
   "execution_count": null,
   "id": "40793b42",
   "metadata": {},
   "outputs": [],
   "source": [
    "# challenge name: transpose and flatten\n",
    "import numpy as np \n",
    "N, M= map(int, input().strip().split())\n",
    "arr= np.array([input().strip().split() for _ in range(N)], int)\n",
    "print(np.transpose(arr))\n",
    "print(arr.flatten())"
   ]
  },
  {
   "cell_type": "code",
   "execution_count": null,
   "id": "037d9d70",
   "metadata": {},
   "outputs": [],
   "source": [
    "# challenge name: concatenate\n",
    "import numpy as np \n",
    "N, M, P= map(int, input().strip().split())\n",
    "arr1= np.array([input().strip().split() for _ in range(N)], int)\n",
    "arr2= np.array([input().strip().split() for _ in range(M)], int)\n",
    "print(np.concatenate((arr1, arr2), axis=0))"
   ]
  }
 ],
 "metadata": {
  "kernelspec": {
   "display_name": "Python 3",
   "language": "python",
   "name": "python3"
  },
  "language_info": {
   "codemirror_mode": {
    "name": "ipython",
    "version": 3
   },
   "file_extension": ".py",
   "mimetype": "text/x-python",
   "name": "python",
   "nbconvert_exporter": "python",
   "pygments_lexer": "ipython3",
   "version": "3.10.0"
  }
 },
 "nbformat": 4,
 "nbformat_minor": 5
}
